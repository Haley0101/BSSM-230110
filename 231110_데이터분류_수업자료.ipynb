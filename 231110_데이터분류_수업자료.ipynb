{
  "nbformat": 4,
  "nbformat_minor": 0,
  "metadata": {
    "colab": {
      "provenance": [],
      "authorship_tag": "ABX9TyO55hoGZXP4Lj7LZR39+lzS",
      "include_colab_link": true
    },
    "kernelspec": {
      "name": "python3",
      "display_name": "Python 3"
    },
    "language_info": {
      "name": "python"
    }
  },
  "cells": [
    {
      "cell_type": "markdown",
      "metadata": {
        "id": "view-in-github",
        "colab_type": "text"
      },
      "source": [
        "<a href=\"https://colab.research.google.com/github/Haley0101/BSSM-230110/blob/main/231110_%EB%8D%B0%EC%9D%B4%ED%84%B0%EB%B6%84%EB%A5%98_%EC%88%98%EC%97%85%EC%9E%90%EB%A3%8C.ipynb\" target=\"_parent\"><img src=\"https://colab.research.google.com/assets/colab-badge.svg\" alt=\"Open In Colab\"/></a>"
      ]
    },
    {
      "cell_type": "markdown",
      "source": [
        "# Module Install & Module import"
      ],
      "metadata": {
        "id": "W_BYgRr3d1cx"
      }
    },
    {
      "cell_type": "code",
      "execution_count": null,
      "metadata": {
        "id": "-_CBdttrbamc"
      },
      "outputs": [],
      "source": [
        "!pip install numpy\n",
        "!pip install tensorflow\n",
        "!pip install matplotlib\n",
        "!pip install tensorflow_datasets"
      ]
    },
    {
      "cell_type": "code",
      "source": [
        "import numpy as np\n",
        "import tensorflow as tf\n",
        "import tensorflow_datasets as tfds\n",
        "import matplotlib.pyplot as plt\n",
        "from tensorflow.keras.layers import Dense\n",
        "from tensorflow.keras.models import Sequential\n",
        "from tensorflow.keras.callbacks import ModelCheckpoint"
      ],
      "metadata": {
        "id": "fiSDv4Vfbx-D"
      },
      "execution_count": null,
      "outputs": []
    },
    {
      "cell_type": "markdown",
      "source": [
        "# Code"
      ],
      "metadata": {
        "id": "486imFAwd7D1"
      }
    },
    {
      "cell_type": "code",
      "source": [
        "# 데이터셋 불러오기\n"
      ],
      "metadata": {
        "id": "eJNkWaCnc_Qr"
      },
      "execution_count": null,
      "outputs": []
    },
    {
      "cell_type": "code",
      "source": [
        "# one hot encoding 처리 (데이터 전처리)\n"
      ],
      "metadata": {
        "id": "OyoCfm9SdC9i"
      },
      "execution_count": null,
      "outputs": []
    },
    {
      "cell_type": "code",
      "source": [
        "# 데이터 확인\n"
      ],
      "metadata": {
        "id": "XfWjuj0CdC3x"
      },
      "execution_count": null,
      "outputs": []
    },
    {
      "cell_type": "code",
      "source": [
        "# 모델 레이어 구성\n"
      ],
      "metadata": {
        "id": "_IJAkEA5dzHl"
      },
      "execution_count": null,
      "outputs": []
    },
    {
      "cell_type": "code",
      "source": [
        "# 학습 하며 가장 좋은 성능의 모델을 checkpoint에 저장\n"
      ],
      "metadata": {
        "id": "5ywTiDWTdCzH"
      },
      "execution_count": null,
      "outputs": []
    },
    {
      "cell_type": "code",
      "source": [
        "# 모델학습\n"
      ],
      "metadata": {
        "id": "KxfXlL73dCty"
      },
      "execution_count": null,
      "outputs": []
    },
    {
      "cell_type": "code",
      "source": [
        "# val_loss가 가장 좋았던 성능의 모델 불러오기\n"
      ],
      "metadata": {
        "id": "bCnsSk9adCSm"
      },
      "execution_count": null,
      "outputs": []
    },
    {
      "cell_type": "code",
      "source": [
        "# 모델 학습 과정 시각화\n"
      ],
      "metadata": {
        "id": "oRurYIAhdEGi"
      },
      "execution_count": null,
      "outputs": []
    },
    {
      "cell_type": "code",
      "source": [
        "# 분류 테스트\n"
      ],
      "metadata": {
        "id": "gyrI1bghdD9q"
      },
      "execution_count": null,
      "outputs": []
    }
  ]
}